{
 "cells": [
  {
   "cell_type": "code",
   "execution_count": 1,
   "metadata": {
    "ExecuteTime": {
     "end_time": "2019-01-18T18:00:09.313025Z",
     "start_time": "2019-01-18T18:00:08.464834Z"
    }
   },
   "outputs": [],
   "source": [
    "# Importing the libraries\n",
    "import numpy as np\n",
    "import matplotlib.pyplot as plt\n",
    "import pandas as pd\n",
    "import glob, os\n",
    "import smartbee as sb\n",
    "\n",
    "from sklearn.neural_network import MLPClassifier"
   ]
  },
  {
   "cell_type": "code",
   "execution_count": 2,
   "metadata": {
    "ExecuteTime": {
     "end_time": "2019-01-18T18:00:10.426884Z",
     "start_time": "2019-01-18T18:00:09.315580Z"
    }
   },
   "outputs": [],
   "source": [
    "# Importing the dataset\n",
    "\n",
    "'''O link em url possui os datasets do projeto, verificar qual se quer usar para passar como índice do datasets no read_csv\n",
    "e qual pasta se colocará junto da url no get_files_paths!'''\n",
    "\n",
    "base='https://raw.githubusercontent.com/rhanielmx/smartbee-files/master/Datasets/Bayer/'\n",
    "url='https://github.com/rhanielmx/smartbee-files/tree/master/Datasets/'\n",
    "ext=['csv']\n",
    "datasets=sb.get_files_paths(url+'Bayer', ext)\n",
    "\n",
    "#Colunas que vamos importar do dataset\n",
    "#weight_col='hive_weight';temp_col='hive_temperature';humidity_col='hive_humidity';labels_col='KMeansLabel'\n",
    "weight_col='Weight(lbs)';temp_hive_col='Temp-Hive(F)';temp_brood_col='Temp-Brood(F)';humidity_hive_col='HRH(%)';humidity_brood_col='BRH(%)';labels_col='Code_Label'"
   ]
  },
  {
   "cell_type": "code",
   "execution_count": 3,
   "metadata": {
    "ExecuteTime": {
     "end_time": "2019-01-18T18:00:11.129118Z",
     "start_time": "2019-01-18T18:00:10.429047Z"
    }
   },
   "outputs": [],
   "source": [
    "data = pd.read_csv(base+datasets[0][0],usecols=(weight_col, temp_hive_col, temp_brood_col, humidity_hive_col, humidity_brood_col, labels_col))\n",
    "X = data.iloc[:, :-1].values\n",
    "y = data.iloc[:, -1].values"
   ]
  },
  {
   "cell_type": "code",
   "execution_count": 4,
   "metadata": {
    "ExecuteTime": {
     "end_time": "2019-01-18T18:00:11.151901Z",
     "start_time": "2019-01-18T18:00:11.131834Z"
    }
   },
   "outputs": [
    {
     "data": {
      "text/html": [
       "<div>\n",
       "<style scoped>\n",
       "    .dataframe tbody tr th:only-of-type {\n",
       "        vertical-align: middle;\n",
       "    }\n",
       "\n",
       "    .dataframe tbody tr th {\n",
       "        vertical-align: top;\n",
       "    }\n",
       "\n",
       "    .dataframe thead th {\n",
       "        text-align: right;\n",
       "    }\n",
       "</style>\n",
       "<table border=\"1\" class=\"dataframe\">\n",
       "  <thead>\n",
       "    <tr style=\"text-align: right;\">\n",
       "      <th></th>\n",
       "      <th>Temp-Brood(F)</th>\n",
       "      <th>Temp-Hive(F)</th>\n",
       "      <th>BRH(%)</th>\n",
       "      <th>HRH(%)</th>\n",
       "      <th>Weight(lbs)</th>\n",
       "      <th>Code_Label</th>\n",
       "    </tr>\n",
       "  </thead>\n",
       "  <tbody>\n",
       "    <tr>\n",
       "      <th>36</th>\n",
       "      <td>87.8</td>\n",
       "      <td>81.2</td>\n",
       "      <td>55.9</td>\n",
       "      <td>55.8</td>\n",
       "      <td>48.8</td>\n",
       "      <td>1.0</td>\n",
       "    </tr>\n",
       "    <tr>\n",
       "      <th>37</th>\n",
       "      <td>88.4</td>\n",
       "      <td>85.4</td>\n",
       "      <td>59.9</td>\n",
       "      <td>60.3</td>\n",
       "      <td>51.6</td>\n",
       "      <td>1.0</td>\n",
       "    </tr>\n",
       "    <tr>\n",
       "      <th>38</th>\n",
       "      <td>81.5</td>\n",
       "      <td>76.2</td>\n",
       "      <td>57.4</td>\n",
       "      <td>57.8</td>\n",
       "      <td>52.6</td>\n",
       "      <td>1.0</td>\n",
       "    </tr>\n",
       "    <tr>\n",
       "      <th>39</th>\n",
       "      <td>77.9</td>\n",
       "      <td>73.1</td>\n",
       "      <td>57.1</td>\n",
       "      <td>58.3</td>\n",
       "      <td>51.7</td>\n",
       "      <td>1.0</td>\n",
       "    </tr>\n",
       "    <tr>\n",
       "      <th>40</th>\n",
       "      <td>80.6</td>\n",
       "      <td>76.4</td>\n",
       "      <td>54.0</td>\n",
       "      <td>54.9</td>\n",
       "      <td>51.0</td>\n",
       "      <td>1.0</td>\n",
       "    </tr>\n",
       "    <tr>\n",
       "      <th>41</th>\n",
       "      <td>84.8</td>\n",
       "      <td>81.9</td>\n",
       "      <td>53.9</td>\n",
       "      <td>53.8</td>\n",
       "      <td>50.4</td>\n",
       "      <td>1.0</td>\n",
       "    </tr>\n",
       "  </tbody>\n",
       "</table>\n",
       "</div>"
      ],
      "text/plain": [
       "    Temp-Brood(F)  Temp-Hive(F)  BRH(%)  HRH(%)  Weight(lbs)  Code_Label\n",
       "36           87.8          81.2    55.9    55.8         48.8         1.0\n",
       "37           88.4          85.4    59.9    60.3         51.6         1.0\n",
       "38           81.5          76.2    57.4    57.8         52.6         1.0\n",
       "39           77.9          73.1    57.1    58.3         51.7         1.0\n",
       "40           80.6          76.4    54.0    54.9         51.0         1.0\n",
       "41           84.8          81.9    53.9    53.8         50.4         1.0"
      ]
     },
     "execution_count": 4,
     "metadata": {},
     "output_type": "execute_result"
    }
   ],
   "source": [
    "data[data.Code_Label==1]"
   ]
  },
  {
   "cell_type": "code",
   "execution_count": 5,
   "metadata": {
    "ExecuteTime": {
     "end_time": "2019-01-18T18:00:11.248951Z",
     "start_time": "2019-01-18T18:00:11.155267Z"
    }
   },
   "outputs": [],
   "source": [
    "#Splitting the data into train, validate e test sets\n",
    "\n",
    "last_col=data.shape[1]-1\n",
    "train_set, validate_set, test_set = sb.separator(data,train_size=0.6,validate_size=0.2,test_size=0.2)\n",
    "X_train, y_train = train_set.iloc[:,0:last_col], train_set.iloc[:,last_col]\n",
    "X_validate, y_validate = validate_set.iloc[:,0:last_col], validate_set.iloc[:,last_col]\n",
    "X_test, y_test = test_set.iloc[:,0:last_col], test_set.iloc[:,last_col]"
   ]
  },
  {
   "cell_type": "code",
   "execution_count": 6,
   "metadata": {
    "ExecuteTime": {
     "end_time": "2019-01-18T18:00:11.330894Z",
     "start_time": "2019-01-18T18:00:11.250690Z"
    }
   },
   "outputs": [],
   "source": [
    "from sklearn.model_selection import train_test_split\n",
    "X_train, X_test, y_train, y_test = train_test_split(X, y, test_size=0.33, random_state=42)"
   ]
  },
  {
   "cell_type": "code",
   "execution_count": 7,
   "metadata": {
    "ExecuteTime": {
     "end_time": "2019-01-18T18:00:11.399280Z",
     "start_time": "2019-01-18T18:00:11.332638Z"
    }
   },
   "outputs": [],
   "source": [
    "training_set=pd.DataFrame(X_train)\n",
    "training_set.columns=data.columns[0:5]\n",
    "training_set=training_set.assign(Code=y_train)\n",
    "test_set=pd.DataFrame(X_test)\n",
    "test_set.columns=data.columns[0:5]\n",
    "test_set=test_set.assign(Code=y_test)"
   ]
  },
  {
   "cell_type": "code",
   "execution_count": 8,
   "metadata": {
    "ExecuteTime": {
     "end_time": "2019-01-18T18:00:11.467252Z",
     "start_time": "2019-01-18T18:00:11.401849Z"
    }
   },
   "outputs": [],
   "source": [
    "training_set.to_csv('training_HT101.csv',index=False)\n",
    "test_set.to_csv('test_HT101.csv',index=False)"
   ]
  },
  {
   "cell_type": "code",
   "execution_count": 9,
   "metadata": {
    "ExecuteTime": {
     "end_time": "2019-01-18T18:00:11.593568Z",
     "start_time": "2019-01-18T18:00:11.469676Z"
    }
   },
   "outputs": [
    {
     "data": {
      "text/plain": [
       "Index(['Temp-Brood(F)', 'Temp-Hive(F)', 'BRH(%)', 'HRH(%)', 'Weight(lbs)',\n",
       "       'Code_Label'],\n",
       "      dtype='object')"
      ]
     },
     "execution_count": 9,
     "metadata": {},
     "output_type": "execute_result"
    }
   ],
   "source": [
    "data.columns"
   ]
  },
  {
   "cell_type": "code",
   "execution_count": 10,
   "metadata": {
    "ExecuteTime": {
     "end_time": "2019-01-18T18:00:11.664970Z",
     "start_time": "2019-01-18T18:00:11.597709Z"
    }
   },
   "outputs": [],
   "source": [
    "# Feature Scaling\n",
    "from sklearn.preprocessing import StandardScaler\n",
    "sc = StandardScaler()\n",
    "X_train = sc.fit_transform(X_train)\n",
    "X_validate = sc.fit_transform(X_validate)\n",
    "X_test = sc.transform(X_test)"
   ]
  },
  {
   "cell_type": "code",
   "execution_count": 11,
   "metadata": {
    "ExecuteTime": {
     "end_time": "2019-01-18T18:00:11.837064Z",
     "start_time": "2019-01-18T18:00:11.666810Z"
    }
   },
   "outputs": [
    {
     "data": {
      "text/plain": [
       "MLPClassifier(activation='relu', alpha=1e-05, batch_size='auto', beta_1=0.9,\n",
       "       beta_2=0.999, early_stopping=False, epsilon=1e-08,\n",
       "       hidden_layer_sizes=(5, 2), learning_rate='constant',\n",
       "       learning_rate_init=0.001, max_iter=200, momentum=0.9,\n",
       "       nesterovs_momentum=True, power_t=0.5, random_state=1, shuffle=True,\n",
       "       solver='lbfgs', tol=0.0001, validation_fraction=0.1, verbose=False,\n",
       "       warm_start=False)"
      ]
     },
     "execution_count": 11,
     "metadata": {},
     "output_type": "execute_result"
    }
   ],
   "source": [
    "#Ajustando o classificador com o conjunto de treino\n",
    "from sklearn.neighbors import KNeighborsClassifier\n",
    "classifier = MLPClassifier(solver='lbfgs', alpha=1e-5, hidden_layer_sizes=(5, 2), random_state=1)\n",
    "#classifier = KNeighborsClassifier(n_neighbors=2)\n",
    "classifier.fit(X_train, y_train)"
   ]
  },
  {
   "cell_type": "code",
   "execution_count": 12,
   "metadata": {
    "ExecuteTime": {
     "end_time": "2019-01-18T18:00:11.844394Z",
     "start_time": "2019-01-18T18:00:11.839763Z"
    }
   },
   "outputs": [],
   "source": [
    "#Fazendo as predições com o conjunto de teste\n",
    "y_pred = classifier.predict(X_test)"
   ]
  },
  {
   "cell_type": "code",
   "execution_count": 13,
   "metadata": {
    "ExecuteTime": {
     "end_time": "2019-01-18T18:00:11.932206Z",
     "start_time": "2019-01-18T18:00:11.847241Z"
    }
   },
   "outputs": [],
   "source": [
    "#Fazendo a Matriz de Confusão\n",
    "from sklearn.metrics import confusion_matrix\n",
    "cm = confusion_matrix(y_test, y_pred)\n",
    "sr = 100*(cm.diagonal().sum()/cm.sum())"
   ]
  },
  {
   "cell_type": "code",
   "execution_count": 14,
   "metadata": {
    "ExecuteTime": {
     "end_time": "2019-01-18T18:00:12.009631Z",
     "start_time": "2019-01-18T18:00:11.934391Z"
    }
   },
   "outputs": [
    {
     "name": "stdout",
     "output_type": "stream",
     "text": [
      "Taxa de Acerto: 56.67%\n",
      "Matriz de Confusão: \n",
      " [[ 0  0  0  0]\n",
      " [ 0  0  1  1]\n",
      " [ 1  0 18 14]\n",
      " [ 0  0  9 16]]\n"
     ]
    }
   ],
   "source": [
    "print(f'Taxa de Acerto: {sr:0.2f}%')\n",
    "print(f'Matriz de Confusão: \\n {cm}')"
   ]
  },
  {
   "cell_type": "code",
   "execution_count": 15,
   "metadata": {
    "ExecuteTime": {
     "end_time": "2019-01-18T18:00:12.086430Z",
     "start_time": "2019-01-18T18:00:12.011448Z"
    }
   },
   "outputs": [],
   "source": [
    "from sklearn.model_selection import GridSearchCV\n",
    "\n",
    "alpha_range = list(10.0 ** -np.arange(1, 7))\n",
    "\n",
    "param_grid = [dict(alpha = alpha_range)]"
   ]
  },
  {
   "cell_type": "code",
   "execution_count": 16,
   "metadata": {
    "ExecuteTime": {
     "end_time": "2019-01-18T18:00:15.819709Z",
     "start_time": "2019-01-18T18:00:12.088839Z"
    }
   },
   "outputs": [
    {
     "name": "stderr",
     "output_type": "stream",
     "text": [
      "/home/rhaniel/anaconda3/lib/python3.6/site-packages/sklearn/model_selection/_split.py:605: Warning: The least populated class in y has only 1 members, which is too few. The minimum number of members in any class cannot be less than n_splits=10.\n",
      "  % (min_groups, self.n_splits)), Warning)\n"
     ]
    }
   ],
   "source": [
    "grid = GridSearchCV(classifier, param_grid, cv=10, scoring='accuracy')\n",
    "grid.fit(X_validate,y_validate);"
   ]
  },
  {
   "cell_type": "code",
   "execution_count": 17,
   "metadata": {
    "ExecuteTime": {
     "end_time": "2019-01-18T18:00:15.951393Z",
     "start_time": "2019-01-18T18:00:15.821454Z"
    }
   },
   "outputs": [],
   "source": [
    "best_clf = grid.best_estimator_\n",
    "best_clf.fit(sc.transform(X),y)\n",
    "opt_y_pred = best_clf.predict(X_test)"
   ]
  },
  {
   "cell_type": "code",
   "execution_count": 18,
   "metadata": {
    "ExecuteTime": {
     "end_time": "2019-01-18T18:00:15.965936Z",
     "start_time": "2019-01-18T18:00:15.953111Z"
    }
   },
   "outputs": [],
   "source": [
    "# Making the New Confusion Matrix\n",
    "from sklearn.metrics import confusion_matrix\n",
    "new_cm = confusion_matrix(y_test, opt_y_pred)\n",
    "new_sr = 100*(new_cm.diagonal().sum()/new_cm.sum())"
   ]
  },
  {
   "cell_type": "code",
   "execution_count": 19,
   "metadata": {
    "ExecuteTime": {
     "end_time": "2019-01-18T18:00:16.034852Z",
     "start_time": "2019-01-18T18:00:15.970937Z"
    }
   },
   "outputs": [
    {
     "name": "stdout",
     "output_type": "stream",
     "text": [
      "Taxa de Acerto: 83.33%\n",
      "Matriz de Confusão: \n",
      " [[ 0  2  0]\n",
      " [ 0 33  0]\n",
      " [ 0  8 17]]\n"
     ]
    }
   ],
   "source": [
    "print(f'Taxa de Acerto: {new_sr:0.2f}%')\n",
    "print(f'Matriz de Confusão: \\n {new_cm}')"
   ]
  },
  {
   "cell_type": "code",
   "execution_count": 20,
   "metadata": {
    "ExecuteTime": {
     "end_time": "2019-01-18T18:00:16.176380Z",
     "start_time": "2019-01-18T18:00:16.038909Z"
    }
   },
   "outputs": [],
   "source": [
    "'''\n",
    "from sklearn.externals import joblib\n",
    "joblib.dump(best_clf,'knn.cls')\n",
    "''';"
   ]
  },
  {
   "cell_type": "code",
   "execution_count": 21,
   "metadata": {
    "ExecuteTime": {
     "end_time": "2019-01-18T18:00:16.449320Z",
     "start_time": "2019-01-18T18:00:16.179770Z"
    }
   },
   "outputs": [
    {
     "data": {
      "text/plain": [
       "\"Params={'metric':grid.best_estimator_.get_params()['metric'],'n_neighbors': grid.best_estimator_.get_params()['n_neighbors'],'p': grid.best_estimator_.get_params()['p']}\\ngrid_values = []\\n\\nfor i in range(0,len(grid.grid_scores_)):\\n    if Params == grid.grid_scores_[i][0]:\\n        best_mean, best_std = grid.grid_scores_[i][1], grid.grid_scores_[i][2].std()\""
      ]
     },
     "execution_count": 21,
     "metadata": {},
     "output_type": "execute_result"
    }
   ],
   "source": [
    "'''Params={'metric':grid.best_estimator_.get_params()['metric'],'n_neighbors': grid.best_estimator_.get_params()['n_neighbors'],'p': grid.best_estimator_.get_params()['p']}\n",
    "grid_values = []\n",
    "\n",
    "for i in range(0,len(grid.grid_scores_)):\n",
    "    if Params == grid.grid_scores_[i][0]:\n",
    "        best_mean, best_std = grid.grid_scores_[i][1], grid.grid_scores_[i][2].std()'''"
   ]
  },
  {
   "cell_type": "code",
   "execution_count": 22,
   "metadata": {
    "ExecuteTime": {
     "end_time": "2019-01-18T18:00:16.521845Z",
     "start_time": "2019-01-18T18:00:16.452394Z"
    }
   },
   "outputs": [
    {
     "ename": "SyntaxError",
     "evalue": "EOL while scanning string literal (<ipython-input-22-c4e138025f0e>, line 1)",
     "traceback": [
      "\u001b[0;36m  File \u001b[0;32m\"<ipython-input-22-c4e138025f0e>\"\u001b[0;36m, line \u001b[0;32m1\u001b[0m\n\u001b[0;31m    '''f'Taxa de acerto = ({best_mean*100:0.2f} ± {best_std*200:0.2f})%''''\u001b[0m\n\u001b[0m                                                                           ^\u001b[0m\n\u001b[0;31mSyntaxError\u001b[0m\u001b[0;31m:\u001b[0m EOL while scanning string literal\n"
     ],
     "output_type": "error"
    }
   ],
   "source": [
    "'''f'Taxa de acerto = ({best_mean*100:0.2f} ± {best_std*200:0.2f})%''''"
   ]
  }
 ],
 "metadata": {
  "kernelspec": {
   "display_name": "Python 3",
   "language": "python",
   "name": "python3"
  },
  "language_info": {
   "codemirror_mode": {
    "name": "ipython",
    "version": 3
   },
   "file_extension": ".py",
   "mimetype": "text/x-python",
   "name": "python",
   "nbconvert_exporter": "python",
   "pygments_lexer": "ipython3",
   "version": "3.6.4"
  }
 },
 "nbformat": 4,
 "nbformat_minor": 2
}
